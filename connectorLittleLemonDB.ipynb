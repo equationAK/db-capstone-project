{
 "cells": [
  {
   "cell_type": "code",
   "execution_count": 1,
   "id": "6b31eb6f",
   "metadata": {
    "scrolled": true
   },
   "outputs": [
    {
     "name": "stdout",
     "output_type": "stream",
     "text": [
      "Requirement already satisfied: mysql-connector-python in /opt/homebrew/lib/python3.11/site-packages (8.0.33)\r\n",
      "Requirement already satisfied: protobuf<=3.20.3,>=3.11.0 in /opt/homebrew/lib/python3.11/site-packages (from mysql-connector-python) (3.20.3)\r\n"
     ]
    }
   ],
   "source": [
    "!pip install mysql-connector-python"
   ]
  },
  {
   "cell_type": "code",
   "execution_count": 33,
   "id": "aaf65f6a",
   "metadata": {},
   "outputs": [
    {
     "name": "stdout",
     "output_type": "stream",
     "text": [
      "['Tables_in_littlelemondb']\n",
      "('Bookings',)\n",
      "('customers',)\n",
      "('Menu',)\n",
      "('MenuItems',)\n",
      "('Orders',)\n",
      "('ordersview',)\n",
      "('Staff',)\n"
     ]
    }
   ],
   "source": [
    "import mysql.connector\n",
    "\n",
    "# Establish the connection\n",
    "connection = mysql.connector.connect(\n",
    "    host='localhost',\n",
    "    user='admin1',\n",
    "    password='aris123',\n",
    "    database='LittleLemonDB'\n",
    ")\n",
    "\n",
    "# Create a cursor object\n",
    "cursor = connection.cursor()\n",
    "\n",
    "# Query to list all tables in the database\n",
    "show_tables_query = \"SHOW tables\"\n",
    "\n",
    "# Execute the query\n",
    "cursor.execute(show_tables_query)\n",
    "\n",
    "# Fetch all the results\n",
    "dataset = cursor.fetchall()\n",
    "\n",
    "# Get column names from the cursor description\n",
    "column_names = [column[0] for column in cursor.description]\n",
    "\n",
    "# Print column names and data\n",
    "print(column_names)\n",
    "for data in dataset:\n",
    "    print(data)\n",
    "\n",
    "# Close the connection\n",
    "connection.close()\n",
    "\n",
    "\n",
    "\n"
   ]
  },
  {
   "cell_type": "code",
   "execution_count": 35,
   "id": "9dc6f14d",
   "metadata": {},
   "outputs": [
    {
     "name": "stdout",
     "output_type": "stream",
     "text": [
      "['Full Name', 'Telepone', 'email']\n",
      "('Taison Mike', 456123, 'taisom.m@hotmail.com')\n",
      "('Jordan Mike', 888123, 'jordan.m@hotmail.com')\n"
     ]
    }
   ],
   "source": [
    "# Establish the connection\n",
    "connection = mysql.connector.connect(\n",
    "    host='localhost',\n",
    "    user='admin1',\n",
    "    password='aris123',\n",
    "    database='LittleLemonDB'\n",
    ")\n",
    "\n",
    "# Create a cursor object\n",
    "cursor = connection.cursor()\n",
    "\n",
    "# Query to list all customers for promotional campaign for sales above 60$\n",
    "promotional_campaign_60 = \"select concat(c.fullName, ' ', c.firstName) as 'Full Name', c.telephone as Telepone, c.email as email from bookings as b join customers as c  on b.customerID = c.customerID join Orders as o on b.bookingID = o.bookingID where totalCost > 60 group by c.customerID;\"\n",
    "\n",
    "# Execute the query\n",
    "cursor.execute(promotional_campaign_60)\n",
    "\n",
    "# Fetch all the results\n",
    "dataset = cursor.fetchall()\n",
    "\n",
    "# Get column names from the cursor description\n",
    "column_names = [column[0] for column in cursor.description]\n",
    "\n",
    "# Print column names and data\n",
    "print(column_names)\n",
    "for data in dataset:\n",
    "    print(data)\n",
    "\n",
    "# Close the connection\n",
    "connection.close()\n"
   ]
  },
  {
   "cell_type": "code",
   "execution_count": null,
   "id": "b9b6154b",
   "metadata": {},
   "outputs": [],
   "source": []
  }
 ],
 "metadata": {
  "kernelspec": {
   "display_name": "Python 3 (ipykernel)",
   "language": "python",
   "name": "python3"
  },
  "language_info": {
   "codemirror_mode": {
    "name": "ipython",
    "version": 3
   },
   "file_extension": ".py",
   "mimetype": "text/x-python",
   "name": "python",
   "nbconvert_exporter": "python",
   "pygments_lexer": "ipython3",
   "version": "3.11.4"
  }
 },
 "nbformat": 4,
 "nbformat_minor": 5
}
